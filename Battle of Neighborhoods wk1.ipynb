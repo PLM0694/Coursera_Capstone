{
 "cells": [
  {
   "cell_type": "markdown",
   "metadata": {},
   "source": [
    "<H1> The Battle of Neighborhoods (Toronto and New York City) </H1><BR>"
   ]
  },
  {
   "cell_type": "markdown",
   "metadata": {},
   "source": [
    "<H3> A description of the problem and a discussion of the background: </H3>"
   ]
  },
  {
   "cell_type": "markdown",
   "metadata": {},
   "source": [
    "Say that if you have a choice to travel between Toronoto and New York City, which would you choose? Or if you were to live there, which would you choose? There are many factors that can contribute, and one of the many factors I would like to address is the type of fun activities that one can do in Toronto versus New York City (vice versa)."
   ]
  },
  {
   "cell_type": "markdown",
   "metadata": {},
   "source": [
    "Data will be pulled using Foursquare.com, however, note that the purpose of this project is to identify the type of fun activities and not aim at saying one city is better than the other. What someone considers fun would depend on their interest and hobby."
   ]
  },
  {
   "cell_type": "markdown",
   "metadata": {},
   "source": [
    "<BR>"
   ]
  },
  {
   "cell_type": "markdown",
   "metadata": {},
   "source": [
    "<H3> A description of the data and how it will be used to solve the problem: </H3>"
   ]
  },
  {
   "cell_type": "markdown",
   "metadata": {},
   "source": [
    "The main source of data gathering will be Foursquare.com. <BR>\n",
    "The following data will be pulled: <BR>\n",
    "    1. Total number of fun activities for each type of activity. \n",
    "        - This value may be helpful in comparing the number of choices that are available.\n",
    "    2. Price range of each activity \n",
    "        - This value may be helpful with determining how much an individual may want to spend on the activity.\n",
    "    3. Total rating \n",
    "        - This value may further assist with the quality of the activity. While one activity may be rated high, it could have fewer number of ratings and may be something to take into consideration.\n",
    "    \n",
    "Tables and charts will be created as applicable for the comparision."
   ]
  },
  {
   "cell_type": "code",
   "execution_count": null,
   "metadata": {},
   "outputs": [],
   "source": []
  }
 ],
 "metadata": {
  "kernelspec": {
   "display_name": "Python",
   "language": "python",
   "name": "conda-env-python-py"
  },
  "language_info": {
   "codemirror_mode": {
    "name": "ipython",
    "version": 3
   },
   "file_extension": ".py",
   "mimetype": "text/x-python",
   "name": "python",
   "nbconvert_exporter": "python",
   "pygments_lexer": "ipython3",
   "version": "3.6.7"
  }
 },
 "nbformat": 4,
 "nbformat_minor": 4
}
